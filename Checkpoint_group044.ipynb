{
 "cells": [
  {
   "cell_type": "markdown",
   "metadata": {},
   "source": [
    "# COGS 118A- Project Checkpoint"
   ]
  },
  {
   "cell_type": "markdown",
   "metadata": {},
   "source": [
    "# Names\n",
    "\n",
    "Hopefully your team is at least this good. Obviously you should replace these with your names.\n",
    "\n",
    "- Yiyang Cao\n",
    "- Pu Tan\n",
    "- Zixu Wang\n",
    "- Zefang Yuan"
   ]
  },
  {
   "cell_type": "markdown",
   "metadata": {},
   "source": [
    "# Abstract \n",
    "This section should be short and clearly stated. It should be a single paragraph <200 words.  It should summarize: \n",
    "- what your goal/problem is\n",
    "- what the data used represents and how they are measured\n",
    "- what you will be doing with the data\n",
    "- how performance/success will be measured"
   ]
  },
  {
   "cell_type": "markdown",
   "metadata": {},
   "source": [
    "# Background\n",
    "\n",
    "Fill in the background and discuss the kind of prior work that has gone on in this research area here. **Use inline citation** to specify which references support which statements.  You can do that through HTML footnotes (demonstrated here). I used to reccommend Markdown footnotes (google is your friend) because they are simpler but recently I have had some problems with them working for me whereas HTML ones always work so far. So use the method that works for you, but do use inline citations.\n",
    "\n",
    "Here is an example of inline citation. After government genocide in the 20th century, real birds were replaced with surveillance drones designed to look just like birds<a name=\"lorenz\"></a>[<sup>[1]</sup>](#lorenznote). Use a minimum of 2 or 3 citations, but we prefer more <a name=\"admonish\"></a>[<sup>[2]</sup>](#admonishnote). You need enough citations to fully explain and back up important facts. \n",
    "\n",
    "Remeber you are trying to explain why someone would want to answer your question or why your hypothesis is in the form that you've stated. "
   ]
  },
  {
   "cell_type": "markdown",
   "metadata": {},
   "source": [
    "# Problem Statement\n",
    "\n",
    "The data is related with direct marketing campaigns (phone calls) of a Portuguese banking institution. The classification goal is to predict if the client will subscribe a term deposit. We are going to predict if the client will subscribe (yes/no) a term deposit. The marketing campaigns were based on phone calls. Often, more than one contact to the same client was required, in order to access if the product (bank term deposit) would be ('yes') or not ('no') subscribed.\n",
    "\n",
    "The main problem here is to use the information of the clients, campaign and social and economic context attributes to predict when there are new clients with some similar but different information, whether they would subscribe the term deposit. There are different important aspects of the problem. For example, there are many client information attributes and many of them are categorical. Then we need to select the most important features and apply feature engineering to transform these attributes.\n",
    "\n",
    "This problem is worth addressing because if we know how well or bad the client would like to subscribe the term deposite, the bank would know how much revenue would they obtain from the business. If the revenue is high, then they should keep doing campaigns to attract their clients. It not, then they may need to changethe strategy or figure out other ways to promote their services.\n",
    "\n",
    "Based on the context of data, we are going to solve the problem by classification. The outcome 'no' is denoted as class 0, and 'yes' is demoted as class 1. The potential solution is by using decision trees, KNN, etc. to classify. The performance of the problem can be measured by metrics such as accuracy and Precision-Recall Metrics.\n",
    "\n",
    "At the end, we will find the best performed model by comparing the metrics of different models we used. More detials will be provide in Proposed Solution section."
   ]
  },
  {
   "cell_type": "markdown",
   "metadata": {},
   "source": [
    "# Data\n",
    "\n",
    "UPDATED FROM PROPOSAL!\n",
    "\n",
    "You should have obtained and cleaned (if necessary) data you will use for this project.\n",
    "\n",
    "Please give the following infomration for each dataset you are using\n",
    "- link/reference to obtain it\n",
    "- description of the size of the dataset (# of variables, # of observations)\n",
    "- what an observation consists of\n",
    "- what some critical variables are, how they are represented\n",
    "- any special handling, transformations, cleaning, etc you have done should be demonstrated here!\n"
   ]
  },
  {
   "cell_type": "markdown",
   "metadata": {},
   "source": [
    "# Proposed Solution\n",
    "\n",
    "In this section, clearly describe a solution to the problem. The solution should be applicable to the project domain and appropriate for the dataset(s) or input(s) given. Provide enough detail (e.g., algorithmic description and/or theoretical properties) to convince us that your solution is applicable. Make sure to describe how the solution will be tested.  \n",
    "\n",
    "If you know details already, describe how (e.g., library used, function calls) you plan to implement the solution in a way that is reproducible.\n",
    "\n",
    "If it is appropriate to the problem statement, describe a benchmark model<a name=\"sota\"></a>[<sup>[3]</sup>](#sotanote) against which your solution will be compared. "
   ]
  },
  {
   "cell_type": "markdown",
   "metadata": {},
   "source": [
    "# Evaluation Metrics\n",
    "\n",
    "Based on our data and problem statement, we can choose the following metrics to evaluate our models.\n",
    "\n",
    "* Accuracy. It would give a good sense of the overall performance of the prediction.\n",
    "    \n",
    "    Accuracy = Correct Predictions / Total Predictions\n",
    "    \n",
    "    In this case, accuracy could tell us how well the client would or would no subscribe the term deposit. This could give us a general idea of whether the bank should keep promoting via campaigns or not.\n",
    "\n",
    "\n",
    "* Precision-Recall Metrics. Since our dataset is imbalanced data. That is, the majority of the outcome is 'no' while the minority is 'yes'. In this sense, Precision-Recall Metrics is helpful to evaluate how well the minority class is predicted.\n",
    "\n",
    "    Precision summarizes the fraction of examples assigned the minority class that belong to the minority class.\n",
    "\n",
    "    Precision = TruePositive / (TruePositive + FalsePositive)\n",
    "\n",
    "    Recall summarizes how well the minority class is predicted.\n",
    "\n",
    "    Recall = TruePositive / (TruePositive + FalseNegative)\n",
    "    \n",
    "    In this case, Precision-Recall Metrics could tell us how many the client would actually subscribe the term deposit. This could give us an clear idea of whether the bank should keep promoting via campaigns or not."
   ]
  },
  {
   "cell_type": "markdown",
   "metadata": {},
   "source": [
    "# Preliminary results\n",
    "\n",
    "NEW SECTION!\n",
    "\n",
    "Please show any preliminary results you have managed to obtain.\n",
    "\n",
    "Examples would include:\n",
    "- Analyzing the suitability of a dataset or alogrithm for prediction/solving your problem \n",
    "- Performing feature selection or hand-designing features from the raw data. Describe the features available/created and/or show the code for selection/creation\n",
    "- Showing the performance of a base model/hyper-parameter setting.  Solve the task with one \"default\" algorithm and characterize the performance level of that base model.\n",
    "- Learning curves or validation curves for a particular model\n",
    "- Tables/graphs showing the performance of different models/hyper-parameters\n",
    "\n"
   ]
  },
  {
   "cell_type": "markdown",
   "metadata": {},
   "source": [
    "# Ethics & Privacy"
   ]
  },
  {
   "cell_type": "markdown",
   "metadata": {},
   "source": [
    "There might be a lot of ethical concerns during the process of the project. It could be raised during data collection, data storage, analysis, modeling, and deployment.\n",
    "\n",
    "For example, during the data collection process, there might be personal information such as name, social security number, etc. be collected. In this case, as people who are going to use the data to do analysis, it is important to remove these private information before analysis.\n",
    "\n",
    "There also might be dataset bias problem during the analysis. In this case, since the data were collected in bias, the result after using these data is also bias. To address this issue, it is necessary to confirm the data before using it, or take extra action to process data to address the biasness."
   ]
  },
  {
   "cell_type": "markdown",
   "metadata": {},
   "source": [
    "# Team Expectations "
   ]
  },
  {
   "cell_type": "markdown",
   "metadata": {},
   "source": [
    "Put things here that cement how you will interact/communicate as a team, how you will handle conflict and difficulty, how you will handle making decisions and setting goals/schedule, how much work you expect from each other, how you will handle deadlines, etc...\n",
    "* Assign the task evenly.\n",
    "* Meeting weekly to discuss the current progress and the work following.\n",
    "* Communicate of difficulties timely, and solve problems together.\n",
    "* Complete task ahead of time.\n",
    "* Finish your work done before any applicable meeting so that it can be discussed with the group.\n",
    "* Coordinate with members for your part of the assignment.\n",
    "* Communicate respectfully and punctually."
   ]
  },
  {
   "cell_type": "markdown",
   "metadata": {},
   "source": [
    "# Project Timeline Proposal"
   ]
  },
  {
   "cell_type": "markdown",
   "metadata": {},
   "source": [
    "UPDATE THE PROPOSAL TIMELINE ACCORDING TO WHAT HAS ACTUALLY HAPPENED AND HOW IT HAS EFFECTED YOUR FUTURE PLANS\n",
    "\n",
    "| Meeting Date  | Meeting Time| Completed Before Meeting  | Discuss at Meeting |\n",
    "|---|---|---|---| \n",
    "| 4/22  |  3 PM |  Do background research on topic (all) | Discuss ideal dataset(s) and ethics; draft project proposal | \n",
    "| 4/29  | 3 PM  | Edit, finalize, and submit proposal; Search for datasets  | Discuss Wrangling and possible analytical approaches; Assign group members to lead each specific part   |\n",
    "| 5/7  | 1 PM  | Import & Wrangle Data ,do some EDA | Review/Edit wrangling/EDA; Discuss Analysis Plan   |\n",
    "| 5/14  | 3 PM  | Finalize wrangling/EDA; Begin programming for project | Discuss/edit project code; Complete project |\n",
    "| 5/20  | 3 PM  | Complete and checkpoint | Discuss/edit full project proposal|\n",
    "| 5/27  | 3 PM  | Think about how to apply peer review insights to our own project | Discuss wrapping up project and divide up final work among group|\n",
    "| 6/8  | Before 11:59 PM  | NA | Turn in Final Project  |"
   ]
  },
  {
   "cell_type": "markdown",
   "metadata": {},
   "source": [
    "# Footnotes\n",
    "<a name=\"lorenznote\"></a>1.[^](#lorenz): Lorenz, T. (9 Dec 2021) Birds Aren’t Real, or Are They? Inside a Gen Z Conspiracy Theory. *The New York Times*. https://www.nytimes.com/2021/12/09/technology/birds-arent-real-gen-z-misinformation.html<br> \n",
    "<a name=\"admonishnote\"></a>2.[^](#admonish): Also refs should be important to the background, not some randomly chosen vaguely related stuff. Include a web link if possible in refs as above.<br>\n",
    "<a name=\"sotanote\"></a>3.[^](#sota): Perhaps the current state of the art solution such as you see on [Papers with code](https://paperswithcode.com/sota). Or maybe not SOTA, but rather a standard textbook/Kaggle solution to this kind of problem\n"
   ]
  },
  {
   "cell_type": "code",
   "execution_count": null,
   "metadata": {},
   "outputs": [],
   "source": []
  }
 ],
 "metadata": {
  "kernelspec": {
   "display_name": "Python 3 (ipykernel)",
   "language": "python",
   "name": "python3"
  },
  "language_info": {
   "codemirror_mode": {
    "name": "ipython",
    "version": 3
   },
   "file_extension": ".py",
   "mimetype": "text/x-python",
   "name": "python",
   "nbconvert_exporter": "python",
   "pygments_lexer": "ipython3",
   "version": "3.7.11"
  }
 },
 "nbformat": 4,
 "nbformat_minor": 2
}
